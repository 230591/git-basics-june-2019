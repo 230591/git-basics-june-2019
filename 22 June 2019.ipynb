{
 "cells": [
  {
   "cell_type": "code",
   "execution_count": null,
   "metadata": {},
   "outputs": [],
   "source": []
  },
  {
   "cell_type": "markdown",
   "metadata": {},
   "source": [
    "#### Date : 22 June 2019\n",
    "\n",
    "### Day Objectives:\n",
    "- File Handling\n",
    "    - Basic File Data Processing\n",
    "        - Accessing and Modifying File Data \n",
    "    - Character Count \n",
    "    - Line Count\n",
    "    - File Size\n",
    "    - Word Count\n",
    "    - Unique Word Count\n",
    "    "
   ]
  },
  {
   "cell_type": "code",
   "execution_count": 4,
   "metadata": {},
   "outputs": [
    {
     "name": "stdout",
     "output_type": "stream",
     "text": [
      "new dataLine1\n",
      "Line2\n",
      "Line3Line2\n",
      "Line3Line4Line5\n"
     ]
    }
   ],
   "source": [
    "# Read a File - File should exist(Read Mode)\n",
    "# Write to a File - Existing(append mode) or New File(Write mode)\n",
    "\n",
    "def readFile(filepath):\n",
    "    with open(filepath, 'r') as f:\n",
    "        filedata = f.read()  \n",
    "    return filedata\n",
    "filepath = 'DataFiles/data.txt'\n",
    "print(readFile(filepath))"
   ]
  },
  {
   "cell_type": "code",
   "execution_count": 5,
   "metadata": {},
   "outputs": [
    {
     "name": "stdout",
     "output_type": "stream",
     "text": [
      "total no of Characters : 42\n"
     ]
    }
   ],
   "source": [
    "# Character Count\n",
    "def characterCount(filepath):\n",
    "    count =0\n",
    "    with open(filepath,'r') as f:\n",
    "        filepath = 'DataFiles/data.txt'\n",
    "        filedata = f.read()\n",
    "        for i in filedata:\n",
    "            if i.isspace() != True:\n",
    "                count = count + 1\n",
    "        print(\"total no of Characters :\", count)\n",
    "characterCount(filepath)"
   ]
  },
  {
   "cell_type": "code",
   "execution_count": 6,
   "metadata": {},
   "outputs": [
    {
     "name": "stdout",
     "output_type": "stream",
     "text": [
      "46\n"
     ]
    }
   ],
   "source": [
    "def countChar(filename):\n",
    "    sum = 0\n",
    "    with open(filename, 'r') as f:\n",
    "        print(len(f.read()))\n",
    "countChar(\"Datafiles/data.txt\")"
   ]
  },
  {
   "cell_type": "code",
   "execution_count": 8,
   "metadata": {},
   "outputs": [
    {
     "name": "stdout",
     "output_type": "stream",
     "text": [
      "4\n"
     ]
    }
   ],
   "source": [
    "# Line Count\n",
    "def lineCount(filepath):\n",
    "    with open(filepath, 'r') as f:\n",
    "        char =0\n",
    "        for i in f:\n",
    "            char = char + 1\n",
    "        print(char)\n",
    "filepath = 'DataFiles/data.txt'\n",
    "lineCount(filepath)"
   ]
  },
  {
   "cell_type": "code",
   "execution_count": 14,
   "metadata": {},
   "outputs": [
    {
     "name": "stdout",
     "output_type": "stream",
     "text": [
      "5\n"
     ]
    }
   ],
   "source": [
    "def wordCount(filepath):\n",
    "    with open(filepath, 'r') as f:\n",
    "        s = f.read().split()\n",
    "        print(len(s))\n",
    "filepath = 'DataFiles/data.txt'\n",
    "wordCount(filepath)"
   ]
  },
  {
   "cell_type": "code",
   "execution_count": 12,
   "metadata": {},
   "outputs": [
    {
     "name": "stdout",
     "output_type": "stream",
     "text": [
      "4\n",
      "5\n",
      "42\n"
     ]
    }
   ],
   "source": [
    "# Function to print Characater count, Line count and Word Count.\n",
    "import os\n",
    "file_path = \"Datafiles/data.txt\"\n",
    "lines = 0\n",
    "words = 0\n",
    "characters = 0\n",
    "with open(file_path, 'r') as f:\n",
    "    for line in f:\n",
    "        line = line.strip(os.linesep)\n",
    "        wordslist = line.split()\n",
    "        lines = lines + 1\n",
    "        words = words + len(wordslist)\n",
    "        characters = characters + sum(1 for s in line if s not in(os.linesep, ' '))\n",
    "print(lines)\n",
    "print(words)\n",
    "print(characters)\n",
    "        "
   ]
  },
  {
   "cell_type": "code",
   "execution_count": 6,
   "metadata": {},
   "outputs": [
    {
     "name": "stdout",
     "output_type": "stream",
     "text": [
      "total file size : 1971 bytes\n"
     ]
    }
   ],
   "source": [
    "# Function to print file size \n",
    "\n",
    "def fileSize(filepath):\n",
    "    size = 39\n",
    "    with open(filepath,'r') as f:\n",
    "        filepath = 'DataFiles/data.txt'\n",
    "        filedata = f.read()\n",
    "        for i in filedata:\n",
    "            size = size + 42\n",
    "        print(\"total file size :\", size, 'bytes')\n",
    "fileSize(filepath)"
   ]
  },
  {
   "cell_type": "code",
   "execution_count": 17,
   "metadata": {},
   "outputs": [
    {
     "name": "stdout",
     "output_type": "stream",
     "text": [
      "49 bytes\n"
     ]
    }
   ],
   "source": [
    "# Funtion to print file size\n",
    "\n",
    "import os\n",
    "\n",
    "def filesize(f):\n",
    "    b = os.path.getsize(f)\n",
    "    if b < 1000:\n",
    "        print(b, \"bytes\")\n",
    "    else:\n",
    "        a = b // 1000\n",
    "        print(a,\"KB\")\n",
    "    return\n",
    "filesize(\"Datafiles/data.txt\")"
   ]
  },
  {
   "cell_type": "code",
   "execution_count": 18,
   "metadata": {},
   "outputs": [
    {
     "name": "stdout",
     "output_type": "stream",
     "text": [
      "{'new': 1, 'dataLine1': 1, 'Line2': 1, 'Line3Line2': 1, 'Line3Line4Line5': 1}\n"
     ]
    }
   ],
   "source": [
    "# Function to print Unique word count\n",
    "\n",
    "def uniquecount(filepath):\n",
    "    count = {}\n",
    "    fileapth = 'Datafiles/data.txt'\n",
    "    with open(filepath, 'r') as f:\n",
    "        filedata = f.read()\n",
    "        li = filedata.split()\n",
    "        for i in li:\n",
    "            if i in count:\n",
    "                count[i] += 1\n",
    "            else:\n",
    "                count[i] = 1\n",
    "    print(count)\n",
    "uniquecount(filepath)"
   ]
  },
  {
   "cell_type": "code",
   "execution_count": 2,
   "metadata": {},
   "outputs": [
    {
     "name": "stdout",
     "output_type": "stream",
     "text": [
      "['new', 'dataLine1', 'Line2', 'Line3Line2', 'Line3Line4Line5']\n",
      "5\n"
     ]
    }
   ],
   "source": [
    "def uniquecount(filepath):\n",
    "    with open(filepath, 'r') as f:\n",
    "        s = f.read().split()\n",
    "        print(s)\n",
    "        y = set(s)\n",
    "        print(len(y))\n",
    "        return\n",
    "filepath = 'Datafiles/data.txt'\n",
    "uniquecount(filepath)"
   ]
  },
  {
   "cell_type": "code",
   "execution_count": 7,
   "metadata": {},
   "outputs": [
    {
     "data": {
      "text/plain": [
       "4"
      ]
     },
     "execution_count": 7,
     "metadata": {},
     "output_type": "execute_result"
    }
   ],
   "source": [
    "import re\n",
    "\n",
    "def wordcountFile(filepath):\n",
    "    pattern = '[\\n]'\n",
    "    filedata = readFile(filepath)\n",
    "    count = len(re.split(pattern, filedata))\n",
    "    return count\n",
    "filepath = 'Datafiles/data.txt'\n",
    "wordcountFile(filepath)"
   ]
  },
  {
   "cell_type": "code",
   "execution_count": 1,
   "metadata": {},
   "outputs": [
    {
     "data": {
      "text/plain": [
       "[1, 2, 3]"
      ]
     },
     "execution_count": 1,
     "metadata": {},
     "output_type": "execute_result"
    }
   ],
   "source": [
    "# Function to get unique elements in a list\n",
    "\n",
    "#[1, 2, 3, 3, 2, 1] -> [1, 2, 3]\n",
    "\n",
    "def uniqueData(li):\n",
    "    unique = [] # Create an empty unique list\n",
    "    # For every element in the main list, check if it exists in the unique list. If it does not exist, add it to unique list, else if it already exists, then move to the next element in the main list\n",
    "    \n",
    "    for element in li:\n",
    "        if element not in unique:\n",
    "            unique.append(element)\n",
    "    return unique\n",
    "li = [1,2,3,3,2,1]\n",
    "    \n",
    "uniqueData(li)\n",
    "    "
   ]
  },
  {
   "cell_type": "code",
   "execution_count": 8,
   "metadata": {},
   "outputs": [
    {
     "name": "stdout",
     "output_type": "stream",
     "text": [
      "new : 1\n",
      "dataLine1 : 1\n",
      "Line2 : 1\n",
      "Line3Line2 : 1\n",
      "Line3Line4Line5 : 1\n"
     ]
    }
   ],
   "source": [
    "# Function tp print the frequency count of all words in a file\n",
    "# Data in Line 1\n",
    "# Data in Line 2\n",
    "# Data in Line 3\n",
    "# O/P\n",
    "# Data : 3\n",
    "# in : 3\n",
    "# Line : 3\n",
    "# 1 : 1\n",
    "# 2 : 1\n",
    "# 3 : 1\n",
    "\n",
    "def uniquecount(filepath):\n",
    "    c = 0\n",
    "    unique = []\n",
    "    with open(filepath, 'r') as f:\n",
    "        filedata = f.read().split()\n",
    "        for i in filedata:\n",
    "            k = i\n",
    "            if k not in unique:\n",
    "                unique.append(k)\n",
    "                for j in filedata:\n",
    "                    if k ==j:\n",
    "                        c = c+1\n",
    "                print(k,':', c)\n",
    "                c = 0\n",
    "    return\n",
    "uniquecount(filepath)"
   ]
  },
  {
   "cell_type": "code",
   "execution_count": null,
   "metadata": {},
   "outputs": [],
   "source": []
  }
 ],
 "metadata": {
  "kernelspec": {
   "display_name": "Python 3",
   "language": "python",
   "name": "python3"
  },
  "language_info": {
   "codemirror_mode": {
    "name": "ipython",
    "version": 3
   },
   "file_extension": ".py",
   "mimetype": "text/x-python",
   "name": "python",
   "nbconvert_exporter": "python",
   "pygments_lexer": "ipython3",
   "version": "3.7.3"
  }
 },
 "nbformat": 4,
 "nbformat_minor": 2
}
